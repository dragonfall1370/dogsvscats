{
 "cells": [
  {
   "cell_type": "code",
   "execution_count": null,
   "metadata": {},
   "outputs": [],
   "source": [
    "import tensorflow as tf\n",
    "from tensorflow.keras.models import Sequential\n",
    "from tensorflow.keras.layers import Dense, Dropout, Activation, Flatten, Conv2D, MaxPooling2D\n",
    "import pickle\n",
    "import numpy as np\n",
    "import os\n",
    "import pathlib\n",
    "current_path = os.getcwd()\n",
    "\n",
    "import warnings\n",
    "warnings.filterwarnings('ignore')"
   ]
  },
  {
   "cell_type": "code",
   "execution_count": null,
   "metadata": {},
   "outputs": [],
   "source": [
    "\n",
    "X = pickle.load(open(os.path.join(current_path, \"X.pickle\"), \"rb\"))\n",
    "y = pickle.load(open(os.path.join(current_path, \"y.pickle\"), \"rb\"))\n",
    "\n",
    "X=np.array(X/255.0)\n",
    "y=np.array(y)\n",
    "\n",
    "print(X.shape[1:])"
   ]
  },
  {
   "cell_type": "code",
   "execution_count": null,
   "metadata": {
    "scrolled": false
   },
   "outputs": [],
   "source": [
    "model = Sequential()\n",
    "\n",
    "model.add(Conv2D(64, (3,3), input_shape = X.shape[1:]))\n",
    "model.add(Activation(\"relu\"))\n",
    "model.add(MaxPooling2D(pool_size = (2,2)))\n",
    "\n",
    "\n",
    "model.add(Conv2D(64, (3,3)))\n",
    "model.add(Activation(\"relu\"))\n",
    "model.add(MaxPooling2D(pool_size = (2,2)))\n",
    "\n",
    "\n",
    "model.add(Flatten())\n",
    "model.add(Dense(64))\n",
    "\n",
    "model.add(Dense(1))\n",
    "model.add(Activation('sigmoid'))\n",
    "\n",
    "model.compile(loss = \"binary_crossentropy\", optimizer = \"adam\"\n",
    "              ,metrics = ['accuracy'])\n",
    "\n",
    "model.fit(X,y, batch_size = 64,  epochs=48, validation_split = 0.3)"
   ]
  },
  {
   "cell_type": "code",
   "execution_count": null,
   "metadata": {},
   "outputs": [],
   "source": [
    "IMG_SIZE = 120\n",
    "x_test = X[710]\n",
    "x_test_pr = np.array(x_test).reshape(-1,IMG_SIZE, IMG_SIZE,1)\n",
    "\n",
    "y_test = y[710]\n",
    "\n",
    "x_pred= model.predict_classes(x_test_pr)\n",
    "\n",
    "print(y_test, x_pred)\n",
    "\n",
    "import matplotlib.pyplot as plt\n",
    "import cv2\n",
    "\n",
    "\n",
    "final_array = cv2.resize(x_test*255, (IMG_SIZE, IMG_SIZE ))\n",
    "plt.imshow(final_array, cmap = 'gray')\n",
    "plt.show()"
   ]
  },
  {
   "cell_type": "code",
   "execution_count": null,
   "metadata": {},
   "outputs": [],
   "source": [
    "import os \n",
    "path = os.path.join(current_path,'test_pic')\n",
    "\n",
    "\n",
    "\n",
    "img_array = cv2.imread(os.path.join(path,'dogs_for_today_2.jpg'),cv2.IMREAD_GRAYSCALE) #\n",
    "plt.imshow(img_array, cmap = \"gray\")\n",
    "plt.show()\n",
    "\n",
    "\n",
    "new_array = cv2.resize(img_array, (IMG_SIZE, IMG_SIZE ))\n",
    "plt.imshow(new_array, cmap = 'gray')\n",
    "plt.show()\n",
    "\n",
    "x_test_pr = np.array(new_array).reshape(-1,IMG_SIZE, IMG_SIZE,1)\n",
    "x_pred= model.predict_classes(x_test_pr)\n",
    "print(x_pred)"
   ]
  },
  {
   "cell_type": "code",
   "execution_count": null,
   "metadata": {},
   "outputs": [],
   "source": [
    "import os \n",
    "\n",
    "\n",
    "\n",
    "\n",
    "img_array = cv2.imread(os.path.join(path,'dog.png'),cv2.IMREAD_GRAYSCALE) #\n",
    "plt.imshow(img_array, cmap = \"gray\")\n",
    "plt.show()\n",
    "\n",
    "new_array = cv2.resize(img_array, (IMG_SIZE, IMG_SIZE ))\n",
    "plt.imshow(new_array, cmap = 'gray')\n",
    "plt.show()\n",
    "\n",
    "x_test_pr = np.array(new_array).reshape(-1,IMG_SIZE, IMG_SIZE,1)\n",
    "x_pred= model.predict_classes(x_test_pr)\n",
    "print(x_pred)"
   ]
  },
  {
   "cell_type": "code",
   "execution_count": null,
   "metadata": {},
   "outputs": [],
   "source": [
    "import os \n",
    "\n",
    "\n",
    "\n",
    "\n",
    "img_array = cv2.imread(os.path.join(path,'cat_togo.jpg'),cv2.IMREAD_GRAYSCALE) #\n",
    "plt.imshow(img_array, cmap = \"gray\")\n",
    "plt.show()\n",
    "\n",
    "\n",
    "new_array = cv2.resize(img_array, (IMG_SIZE, IMG_SIZE ))\n",
    "plt.imshow(new_array, cmap = 'gray')\n",
    "plt.show()\n",
    "\n",
    "x_test_pr = np.array(new_array).reshape(-1,IMG_SIZE, IMG_SIZE,1)\n",
    "x_pred= model.predict_classes(x_test_pr)\n",
    "print(x_pred)"
   ]
  },
  {
   "cell_type": "code",
   "execution_count": null,
   "metadata": {
    "scrolled": false
   },
   "outputs": [],
   "source": [
    "import os \n",
    "\n",
    "\n",
    "\n",
    "\n",
    "img_array = cv2.imread(os.path.join(path,'cat2.jpg'),cv2.IMREAD_GRAYSCALE) #\n",
    "plt.imshow(img_array, cmap = \"gray\")\n",
    "plt.show()\n",
    "\n",
    "\n",
    "new_array = cv2.resize(img_array, (IMG_SIZE, IMG_SIZE ))\n",
    "plt.imshow(new_array, cmap = 'gray')\n",
    "plt.show()\n",
    "\n",
    "x_test_pr = np.array(new_array).reshape(-1,IMG_SIZE, IMG_SIZE,1)\n",
    "x_pred= model.predict_classes(x_test_pr)\n",
    "print(x_pred)"
   ]
  },
  {
   "cell_type": "code",
   "execution_count": null,
   "metadata": {},
   "outputs": [],
   "source": [
    "import tensorflow as tf\n"
   ]
  }
 ],
 "metadata": {
  "interpreter": {
   "hash": "69a6bd6381dd776521c68a95213a51d84e43b8e0932e2a9e32e7d6766b3f1f87"
  },
  "kernelspec": {
   "display_name": "Python 3 (ipykernel)",
   "language": "python",
   "name": "python3"
  },
  "language_info": {
   "codemirror_mode": {
    "name": "ipython",
    "version": 3
   },
   "file_extension": ".py",
   "mimetype": "text/x-python",
   "name": "python",
   "nbconvert_exporter": "python",
   "pygments_lexer": "ipython3",
   "version": "3.8.10"
  }
 },
 "nbformat": 4,
 "nbformat_minor": 4
}
